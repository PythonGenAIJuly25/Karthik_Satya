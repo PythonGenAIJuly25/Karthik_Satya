{
  "cells": [
    {
      "cell_type": "markdown",
      "metadata": {
        "id": "cTcXCI4pXwKq"
      },
      "source": [
        "# Module 2: Control Flow Assignments\n",
        "## Lesson 2.1: Conditional Statements\n",
        "### Assignment 1: Simple if Statement\n",
        "\n",
        "Write a program that asks the user to input a number and prints whether the number is positive.\n",
        "\n",
        "### Assignment 2: if-else Statement\n",
        "\n",
        "Write a program that asks the user to input a number and prints whether the number is positive or negative.\n",
        "\n",
        "### Assignment 3: if-elif-else Statement\n",
        "\n",
        "Write a program that asks the user to input a number and prints whether the number is positive, negative, or zero.\n",
        "\n",
        "### Assignment 4: Nested if Statement\n",
        "\n",
        "Write a program that asks the user to input a number and prints whether the number is positive and even, positive and odd, or negative.\n",
        "\n",
        "## Lesson 2.2: Loops\n",
        "### Assignment 5: for Loop\n",
        "\n",
        "Write a program that prints all the numbers from 1 to 10 using a for loop.\n",
        "\n",
        "### Assignment 6: while Loop\n",
        "\n",
        "Write a program that prints all the numbers from 1 to 10 using a while loop.\n",
        "\n",
        "### Assignment 7: Nested Loops\n",
        "\n",
        "Write a program that prints a 5x5 grid of asterisks (*) using nested loops.\n",
        "\n",
        "### Assignment 8: break Statement\n",
        "\n",
        "Write a program that asks the user to input numbers until they input 0. The program should print the sum of all the input numbers.\n",
        "\n",
        "### Assignment 9: continue Statement\n",
        "\n",
        "Write a program that prints all the numbers from 1 to 10 except 5 using a for loop and continue statement.\n",
        "\n",
        "### Assignment 10: pass Statement\n",
        "\n",
        "Write a program that defines an empty function using the pass statement.\n",
        "\n",
        "### Assignment 11: Combining Loops and Conditionals\n",
        "\n",
        "Write a program that asks the user to input a number and prints all the even numbers from 1 to that number using a for loop.\n",
        "\n",
        "### Assignment 12: Factorial Calculation\n",
        "\n",
        "Write a program that calculates the factorial of a number input by the user using a while loop.\n",
        "\n",
        "### Assignment 13: Sum of Digits\n",
        "\n",
        "Write a program that calculates the sum of the digits of a number input by the user using a while loop.\n",
        "\n",
        "### Assignment 14: Prime Number Check\n",
        "\n",
        "Write a program that checks if a number input by the user is a prime number using a for loop.\n",
        "\n",
        "### Assignment 15: Fibonacci Sequence\n",
        "\n",
        "Write a program that prints the first n Fibonacci numbers, where n is input by the user."
      ],
      "id": "cTcXCI4pXwKq"
    },
    {
      "cell_type": "code",
      "execution_count": null,
      "metadata": {
        "id": "CaOsMdhnXwK2"
      },
      "outputs": [],
      "source": [],
      "id": "CaOsMdhnXwK2"
    },
    {
      "cell_type": "markdown",
      "source": [
        "\"Assignment 1: Simple if Statement\n",
        "Write a program that asks the user to input a number and prints whether the number is positive.\"\n",
        "\n",
        "\n"
      ],
      "metadata": {
        "id": "d4KuB0QqYIYe"
      },
      "id": "d4KuB0QqYIYe"
    },
    {
      "cell_type": "code",
      "source": [
        "age=22\n",
        "if age>0:\n",
        "  print(\"positive\")\n"
      ],
      "metadata": {
        "id": "nwIHmPz1YQH5",
        "outputId": "7eef6870-d42c-49c1-9462-70553b484e90",
        "colab": {
          "base_uri": "https://localhost:8080/"
        }
      },
      "id": "nwIHmPz1YQH5",
      "execution_count": 1,
      "outputs": [
        {
          "output_type": "stream",
          "name": "stdout",
          "text": [
            "positive\n"
          ]
        }
      ]
    },
    {
      "cell_type": "markdown",
      "source": [
        "\"Assignment 2: if-else Statement\n",
        "Write a program that asks the user to input a number and prints whether the number is positive or negative.\n",
        "\""
      ],
      "metadata": {
        "id": "MDEJ643UZDDp"
      },
      "id": "MDEJ643UZDDp"
    },
    {
      "cell_type": "code",
      "source": [
        "num=10\n",
        "if age>0:\n",
        "  print(\"positive\")\n",
        "else:\n",
        "  print(\"negative\")"
      ],
      "metadata": {
        "id": "avPhMNrpZE_Z",
        "outputId": "89776292-879c-47eb-d000-ae6542b7137a",
        "colab": {
          "base_uri": "https://localhost:8080/"
        }
      },
      "id": "avPhMNrpZE_Z",
      "execution_count": 3,
      "outputs": [
        {
          "output_type": "stream",
          "name": "stdout",
          "text": [
            "positive\n"
          ]
        }
      ]
    },
    {
      "cell_type": "markdown",
      "source": [
        "Assignment 3: if-elif-else Statement\n",
        "Write a program that asks the user to input a number and prints whether the number is positive, negative, or zero."
      ],
      "metadata": {
        "id": "sW11YbeKZRMS"
      },
      "id": "sW11YbeKZRMS"
    },
    {
      "cell_type": "code",
      "source": [
        "num=1001\n",
        "if num>0:\n",
        "  print(\"positive\")\n",
        "elif num==0:\n",
        "  print(\"Zero\")\n",
        "else:\n",
        "  print(\"negative\")"
      ],
      "metadata": {
        "id": "cI4bRyoPZSjp",
        "outputId": "6be2f9d7-d67a-4a68-acca-8f34aeb0a594",
        "colab": {
          "base_uri": "https://localhost:8080/"
        }
      },
      "id": "cI4bRyoPZSjp",
      "execution_count": 2,
      "outputs": [
        {
          "output_type": "stream",
          "name": "stdout",
          "text": [
            "positive\n"
          ]
        }
      ]
    },
    {
      "cell_type": "markdown",
      "source": [
        "Assignment 4: Nested if Statement\n",
        "Write a program that asks the user to input a number and prints whether the number is positive and even, positive and odd, or negative."
      ],
      "metadata": {
        "id": "LV1Iqdz5Znu0"
      },
      "id": "LV1Iqdz5Znu0"
    },
    {
      "cell_type": "code",
      "source": [
        "num=1002\n",
        "if num==0:\n",
        "  print(\"Zero\")\n",
        "elif num>0:\n",
        "  if num%2==0:\n",
        "    print(\"positive and Even\")\n",
        "  else:\n",
        "      print(\"positive and odd\")\n",
        "else:\n",
        "  if num%2==0:\n",
        "    print(\"negative and even\")\n",
        "  else:\n",
        "    print(\"negative and odd\")\n",
        ""
      ],
      "metadata": {
        "id": "g58sqHdzZpcX",
        "outputId": "eee9615f-54a1-4dcc-e713-6b408045ebcb",
        "colab": {
          "base_uri": "https://localhost:8080/"
        }
      },
      "id": "g58sqHdzZpcX",
      "execution_count": 5,
      "outputs": [
        {
          "output_type": "stream",
          "name": "stdout",
          "text": [
            "positive and Even\n"
          ]
        }
      ]
    },
    {
      "cell_type": "markdown",
      "source": [
        "Lesson 2.2: Loops\n",
        "Assignment 5: for Loop\n",
        "Write a program that prints all the numbers from 1 to 10 using a for loop."
      ],
      "metadata": {
        "id": "J55Hdw9yaaop"
      },
      "id": "J55Hdw9yaaop"
    },
    {
      "cell_type": "code",
      "source": [
        "for i in range(10+1):\n",
        "  print(i,end=\" \")"
      ],
      "metadata": {
        "id": "5V78mN6Pab2e",
        "outputId": "87855ebf-302c-4524-ac71-6dbd022cbb7e",
        "colab": {
          "base_uri": "https://localhost:8080/"
        }
      },
      "id": "5V78mN6Pab2e",
      "execution_count": 6,
      "outputs": [
        {
          "output_type": "stream",
          "name": "stdout",
          "text": [
            "0 1 2 3 4 5 6 7 8 9 10 "
          ]
        }
      ]
    },
    {
      "cell_type": "markdown",
      "source": [
        "Assignment 6: while Loop\n",
        "Write a program that prints all the numbers from 1 to 10 using a while loop.\n",
        "\n"
      ],
      "metadata": {
        "id": "76IJTodVatGo"
      },
      "id": "76IJTodVatGo"
    },
    {
      "cell_type": "code",
      "source": [
        "num=0\n",
        "while(num<=10):\n",
        "  print(num,end=\" \")\n",
        "  num+=1"
      ],
      "metadata": {
        "id": "Bs1_qbIyauhx",
        "outputId": "9f19c130-c427-46d5-b85e-cead1a148fd9",
        "colab": {
          "base_uri": "https://localhost:8080/"
        }
      },
      "id": "Bs1_qbIyauhx",
      "execution_count": 8,
      "outputs": [
        {
          "output_type": "stream",
          "name": "stdout",
          "text": [
            "0 1 2 3 4 5 6 7 8 9 10 "
          ]
        }
      ]
    },
    {
      "cell_type": "markdown",
      "source": [
        "Assignment 7: Nested Loops\n",
        "Write a program that prints a 5x5 grid of asterisks (*) using nested loops.\n",
        "\n"
      ],
      "metadata": {
        "id": "_QJ1USmsbFZ9"
      },
      "id": "_QJ1USmsbFZ9"
    },
    {
      "cell_type": "code",
      "source": [
        "num=5\n",
        "for i in range(num):\n",
        "  for j in range(num):\n",
        "    print(\"*\",end=\" \")\n",
        "  print()\n",
        ""
      ],
      "metadata": {
        "id": "osEV7ipnbGak",
        "outputId": "d9031929-0b43-4394-85a2-61d01336b9d6",
        "colab": {
          "base_uri": "https://localhost:8080/"
        }
      },
      "id": "osEV7ipnbGak",
      "execution_count": 15,
      "outputs": [
        {
          "output_type": "stream",
          "name": "stdout",
          "text": [
            "* * * * * \n",
            "* * * * * \n",
            "* * * * * \n",
            "* * * * * \n",
            "* * * * * \n"
          ]
        }
      ]
    },
    {
      "cell_type": "markdown",
      "source": [
        "Assignment 8: break Statement\n",
        "Write a program that asks the user to input numbers until they input 0. The program should print the sum of all the input numbers.\n",
        "\n"
      ],
      "metadata": {
        "id": "i8Mh7pJTbwUa"
      },
      "id": "i8Mh7pJTbwUa"
    },
    {
      "cell_type": "code",
      "source": [
        "l=[2,5,7,0,6]\n",
        "sum=0\n",
        "for i in range(len(l)):\n",
        "  sum+=l[i]\n",
        "  if l[i]==0:\n",
        "    break\n",
        "print(sum)"
      ],
      "metadata": {
        "id": "8N_Hh_vEb6CZ",
        "outputId": "badf5d54-1c2b-4ed4-ae5d-b84aace7890a",
        "colab": {
          "base_uri": "https://localhost:8080/"
        }
      },
      "id": "8N_Hh_vEb6CZ",
      "execution_count": 20,
      "outputs": [
        {
          "output_type": "stream",
          "name": "stdout",
          "text": [
            "14\n"
          ]
        }
      ]
    },
    {
      "cell_type": "markdown",
      "source": [
        "Assignment 9: continue Statement\n",
        "Write a program that prints all the numbers from 1 to 10 except 5 using a for loop and continue statement.\n"
      ],
      "metadata": {
        "id": "YZAr0oKDby-P"
      },
      "id": "YZAr0oKDby-P"
    },
    {
      "cell_type": "code",
      "source": [
        "for i in range(10+1):\n",
        "  if i==5:\n",
        "    continue\n",
        "  print(i,end=\" \")"
      ],
      "metadata": {
        "id": "CECcEc2mb62J",
        "outputId": "0ddf8494-8f74-459e-b421-8f8acd744c75",
        "colab": {
          "base_uri": "https://localhost:8080/"
        }
      },
      "id": "CECcEc2mb62J",
      "execution_count": 21,
      "outputs": [
        {
          "output_type": "stream",
          "name": "stdout",
          "text": [
            "0 1 2 3 4 6 7 8 9 10 "
          ]
        }
      ]
    },
    {
      "cell_type": "markdown",
      "source": [
        "\n",
        "Assignment 10: pass Statement\n",
        "Write a program that defines an empty function using the pass statement."
      ],
      "metadata": {
        "id": "P5H6f4ksb1ch"
      },
      "id": "P5H6f4ksb1ch"
    },
    {
      "cell_type": "code",
      "source": [
        "def add (a,b):\n",
        "  pass\n",
        "\n",
        "print(add)\n"
      ],
      "metadata": {
        "id": "CFEw8-1ib7Xu",
        "outputId": "846d53e3-f90c-4804-d9b1-17df2dd65f90",
        "colab": {
          "base_uri": "https://localhost:8080/"
        }
      },
      "id": "CFEw8-1ib7Xu",
      "execution_count": 24,
      "outputs": [
        {
          "output_type": "stream",
          "name": "stdout",
          "text": [
            "<function add at 0x792d8ab17060>\n"
          ]
        }
      ]
    },
    {
      "cell_type": "markdown",
      "source": [
        "Assignment 11: Combining Loops and Conditionals\n",
        "Write a program that asks the user to input a number and prints all the even numbers from 1 to that number using a for loop.\n",
        "\n"
      ],
      "metadata": {
        "id": "RHV52UJMdiNR"
      },
      "id": "RHV52UJMdiNR"
    },
    {
      "cell_type": "code",
      "source": [
        "n=int(input(\"Enter a number\"))\n",
        "for i in range(n+1):\n",
        "  if i%2==0:\n",
        "    print(i,end=\" \")"
      ],
      "metadata": {
        "id": "WGsloDNTdzNR",
        "outputId": "07feae64-7d71-42b8-aee1-24b59365febd",
        "colab": {
          "base_uri": "https://localhost:8080/"
        }
      },
      "id": "WGsloDNTdzNR",
      "execution_count": 25,
      "outputs": [
        {
          "output_type": "stream",
          "name": "stdout",
          "text": [
            "Enter a number6\n",
            "0 2 4 6 "
          ]
        }
      ]
    },
    {
      "cell_type": "markdown",
      "source": [
        "Assignment 12: Factorial Calculation\n",
        "Write a program that calculates the factorial of a number input by the user using a while loop.\n",
        "\n"
      ],
      "metadata": {
        "id": "uq3J7quAdmfq"
      },
      "id": "uq3J7quAdmfq"
    },
    {
      "cell_type": "code",
      "source": [
        "n=int(input(\"Enter a number\"))\n",
        "sum=1\n",
        "i=1\n",
        "while(i<=n):\n",
        "  sum*=i\n",
        "  i+=1\n",
        "print(sum)"
      ],
      "metadata": {
        "id": "s65RsVQcd0B5",
        "outputId": "1517953f-e83b-457f-9e0c-29caeef79af0",
        "colab": {
          "base_uri": "https://localhost:8080/"
        }
      },
      "id": "s65RsVQcd0B5",
      "execution_count": 30,
      "outputs": [
        {
          "output_type": "stream",
          "name": "stdout",
          "text": [
            "Enter a number5\n",
            "120\n"
          ]
        }
      ]
    },
    {
      "cell_type": "markdown",
      "source": [
        "Assignment 13: Sum of Digits\n",
        "Write a program that calculates the sum of the digits of a number input by the user using a while loop.\n",
        "\n"
      ],
      "metadata": {
        "id": "8S8ILAbBdqKo"
      },
      "id": "8S8ILAbBdqKo"
    },
    {
      "cell_type": "code",
      "source": [
        "n=int(input(\"Enter a number\"))\n",
        "sum=0\n",
        "while n>0:\n",
        "  r=n%10\n",
        "  sum+=r\n",
        "  n=n//10\n",
        "print(sum)"
      ],
      "metadata": {
        "id": "_Va5Cem-d0uw",
        "outputId": "2bcc15b9-7cf0-40e2-9f26-c0cc277cb959",
        "colab": {
          "base_uri": "https://localhost:8080/"
        }
      },
      "id": "_Va5Cem-d0uw",
      "execution_count": 33,
      "outputs": [
        {
          "output_type": "stream",
          "name": "stdout",
          "text": [
            "Enter a number56\n",
            "11\n"
          ]
        }
      ]
    },
    {
      "cell_type": "markdown",
      "source": [
        "Assignment 14: Prime Number Check\n",
        "Write a program that checks if a number input by the user is a prime number using a for loop.\n",
        "\n"
      ],
      "metadata": {
        "id": "JPJE4Z6Wds0v"
      },
      "id": "JPJE4Z6Wds0v"
    },
    {
      "cell_type": "code",
      "source": [
        "def is_prime(num):\n",
        "  for i in range(2,num):\n",
        "    if num%i==0:\n",
        "      return False\n",
        "  return True\n",
        "\n",
        "num=int(input(\"Enter a number\"))\n",
        "if is_prime(num):\n",
        "  print(\"Prime\")\n",
        "else:\n",
        "  print(\"Not Prime\")"
      ],
      "metadata": {
        "id": "qGMX4uVUd1lh",
        "outputId": "29893420-ec69-48ac-ae49-c70c7d8908c0",
        "colab": {
          "base_uri": "https://localhost:8080/"
        }
      },
      "id": "qGMX4uVUd1lh",
      "execution_count": 4,
      "outputs": [
        {
          "output_type": "stream",
          "name": "stdout",
          "text": [
            "Enter a number11\n",
            "Prime\n"
          ]
        }
      ]
    },
    {
      "cell_type": "markdown",
      "source": [
        "Assignment 15: Fibonacci Sequence\n",
        "Write a program that prints the first n Fibonacci numbers, where n is input by the user."
      ],
      "metadata": {
        "id": "Furuk0WtdwM4"
      },
      "id": "Furuk0WtdwM4"
    },
    {
      "cell_type": "code",
      "source": [
        "a=0\n",
        "b=1\n",
        "c=0\n",
        "num=int(input(\"Enter a number\"))\n",
        "for i in range(num+1):\n",
        "  print(a,end=\" \")\n",
        "  c=a+b\n",
        "  a,b=b,a\n",
        "  b,c=c,b"
      ],
      "metadata": {
        "id": "v4HpmA_Od2WS",
        "outputId": "e5bc3abf-2645-43d4-ac98-be584211abba",
        "colab": {
          "base_uri": "https://localhost:8080/"
        }
      },
      "id": "v4HpmA_Od2WS",
      "execution_count": 8,
      "outputs": [
        {
          "output_type": "stream",
          "name": "stdout",
          "text": [
            "Enter a number10\n",
            "0 1 1 2 3 5 8 13 21 34 55 "
          ]
        }
      ]
    }
  ],
  "metadata": {
    "kernelspec": {
      "display_name": "Python 3",
      "language": "python",
      "name": "python3"
    },
    "language_info": {
      "codemirror_mode": {
        "name": "ipython",
        "version": 3
      },
      "file_extension": ".py",
      "mimetype": "text/x-python",
      "name": "python",
      "nbconvert_exporter": "python",
      "pygments_lexer": "ipython3",
      "version": "3.9.7"
    },
    "colab": {
      "provenance": []
    }
  },
  "nbformat": 4,
  "nbformat_minor": 5
}