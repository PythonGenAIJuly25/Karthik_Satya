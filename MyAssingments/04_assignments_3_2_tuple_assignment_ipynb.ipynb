{
  "nbformat": 4,
  "nbformat_minor": 0,
  "metadata": {
    "colab": {
      "provenance": []
    },
    "kernelspec": {
      "name": "python3",
      "display_name": "Python 3"
    },
    "language_info": {
      "name": "python"
    }
  },
  "cells": [
    {
      "cell_type": "markdown",
      "source": [
        "# **Module 3: Data Structures Assignments**\n",
        "## **New Section**\n",
        "# **Lesson 3.2: Tuples**\n",
        "Assignment 1: Creating and Accessing Tuples\n",
        "\n",
        "Create a tuple with the first 10 positive integers. Print the tuple.\n",
        "\n",
        "Assignment 2: Accessing Tuple Elements\n",
        "\n",
        "Print the first, middle, and last elements of the tuple created in Assignment 1.\n",
        "\n",
        "Assignment 3: Tuple Slicing\n",
        "\n",
        "Print the first three elements, the last three elements, and the elements from index 2 to 5 of the tuple created in Assignment 1.\n",
        "\n",
        "Assignment 4: Nested Tuples\n",
        "\n",
        "Create a nested tuple representing a 3x3 matrix and print the matrix. Access and print the element at the second row and third column.\n",
        "\n",
        "Assignment 5: Tuple Concatenation\n",
        "\n",
        "Concatenate two tuples: (1, 2, 3) and (4, 5, 6). Print the resulting tuple.\n",
        "\n",
        "Assignment 6: Tuple Methods\n",
        "\n",
        "Create a tuple with duplicate elements and count the occurrences of an element. Find the index of the first occurrence of an element in the tuple.\n",
        "\n",
        "Assignment 7: Unpacking Tuples\n",
        "\n",
        "Create a tuple with 5 elements and unpack it into 5 variables. Print the variables.\n",
        "\n",
        "Assignment 8: Tuple Conversion\n",
        "\n",
        "Convert a list of the first 5 positive integers to a tuple. Print the tuple.\n",
        "\n",
        "Assignment 9: Tuple of Tuples\n",
        "\n",
        "Create a tuple containing 3 tuples, each with 3 elements. Print the tuple of tuples.\n",
        "\n",
        "Assignment 10: Tuple and List\n",
        "\n",
        "Create a tuple with the first 5 positive integers. Convert it to a list, append the number 6, and convert it back to a tuple. Print the resulting tuple.\n",
        "\n",
        "Assignment 11: Tuple and String\n",
        "\n",
        "Create a tuple with the characters of a string. Join the tuple elements into a single string. Print the string.\n",
        "\n",
        "Assignment 12: Tuple and Dictionary\n",
        "\n",
        "Create a dictionary with tuple keys and integer values. Print the dictionary.\n",
        "\n",
        "Assignment 13: Nested Tuple Iteration\n",
        "\n",
        "Create a nested tuple and iterate over the elements, printing each element.\n",
        "\n",
        "Assignment 14: Tuple and Set\n",
        "\n",
        "Create a tuple with duplicate elements. Convert it to a set to remove duplicates and print the resulting set.\n",
        "\n",
        "Assignment 15: Tuple Functions\n",
        "\n",
        "Write functions that take a tuple and return the minimum, maximum, and sum of the elements. Print the results for a sample tuple."
      ],
      "metadata": {
        "id": "DxibiUVT-mJW"
      }
    },
    {
      "cell_type": "markdown",
      "source": [
        "Assignment 1: Creating and Accessing Tuples\n",
        "\n",
        "Create a tuple with the first 10 positive integers. Print the tuple.\n",
        "\n"
      ],
      "metadata": {
        "id": "Y6NA-4er_IsT"
      }
    },
    {
      "cell_type": "code",
      "source": [
        "my_tuple=(tuple(range(1,10+1)))\n",
        "print(my_tuple)"
      ],
      "metadata": {
        "colab": {
          "base_uri": "https://localhost:8080/"
        },
        "id": "v3WgPTOn_QQR",
        "outputId": "43d2b9bf-06aa-4761-85b2-69ddfa005ad0"
      },
      "execution_count": 3,
      "outputs": [
        {
          "output_type": "stream",
          "name": "stdout",
          "text": [
            "(1, 2, 3, 4, 5, 6, 7, 8, 9, 10)\n"
          ]
        }
      ]
    },
    {
      "cell_type": "markdown",
      "source": [
        "Assignment 2: Accessing Tuple Elements\n",
        "\n",
        "Print the first, middle, and last elements of the tuple created in Assignment 1.\n",
        "\n"
      ],
      "metadata": {
        "id": "2VzBnvE8_Lht"
      }
    },
    {
      "cell_type": "code",
      "source": [
        "first,*middle,last=my_tuple\n",
        "print(f\"first={first} middle={middle} last{last}\")\n",
        "st=my_tuple[0]\n",
        "mid=my_tuple[int(len(my_tuple)//2-1)]\n",
        "end=my_tuple[-1]\n",
        "print(f\"first={st} mid= {mid} last{end}\")"
      ],
      "metadata": {
        "colab": {
          "base_uri": "https://localhost:8080/"
        },
        "id": "GJKvduJG_Q_C",
        "outputId": "00d85fe5-3364-472d-8f72-c4bfafab4d56"
      },
      "execution_count": 29,
      "outputs": [
        {
          "output_type": "stream",
          "name": "stdout",
          "text": [
            "first=1 middle=[2, 3, 4, 5, 6, 7, 8, 9] last10\n",
            "first=1 mid= 5 last10\n"
          ]
        }
      ]
    },
    {
      "cell_type": "markdown",
      "source": [
        "Assignment 3: Tuple Slicing\n",
        "\n",
        "Print the first three elements, the last three elements, and the elements from index 2 to 5 of the tuple created in Assignment 1."
      ],
      "metadata": {
        "id": "RFoOqxur_No7"
      }
    },
    {
      "cell_type": "code",
      "source": [
        "print(my_tuple[:3])\n",
        "print(my_tuple[-3:])\n",
        "print(my_tuple[2:5])"
      ],
      "metadata": {
        "colab": {
          "base_uri": "https://localhost:8080/"
        },
        "id": "tM0SHZ0o_SQx",
        "outputId": "68b69bab-b0b5-4e4b-8217-0eea3e07f3a5"
      },
      "execution_count": 30,
      "outputs": [
        {
          "output_type": "stream",
          "name": "stdout",
          "text": [
            "(1, 2, 3)\n",
            "(8, 9, 10)\n",
            "(3, 4, 5)\n"
          ]
        }
      ]
    },
    {
      "cell_type": "markdown",
      "source": [
        "Assignment 4: Nested Tuples\n",
        "\n",
        "Create a nested tuple representing a 3x3 matrix and print the matrix. Access and print the element at the second row and third column.\n",
        "\n"
      ],
      "metadata": {
        "id": "wV4QfHz7_PVr"
      }
    },
    {
      "cell_type": "code",
      "source": [
        "my_tuple=((1,2,3),(4,5,6),(7,8,9))\n",
        "print(my_tuple)\n",
        "print(my_tuple[1][2])"
      ],
      "metadata": {
        "id": "WmJmOP-p_AKv"
      },
      "execution_count": null,
      "outputs": []
    },
    {
      "cell_type": "markdown",
      "source": [
        "Assignment 5: Tuple Concatenation\n",
        "\n",
        "Concatenate two tuples: (1, 2, 3) and (4, 5, 6). Print the resulting tuple.\n",
        "\n"
      ],
      "metadata": {
        "id": "L9Q8tiDv_ZsD"
      }
    },
    {
      "cell_type": "code",
      "source": [
        "t1=(1,2,3)\n",
        "t2=(4,5,6)\n",
        "t3=t1+t2\n",
        "print(t3)"
      ],
      "metadata": {
        "colab": {
          "base_uri": "https://localhost:8080/"
        },
        "id": "Tf5nVTC6_b98",
        "outputId": "4a6c4afc-8a61-4e3f-a50c-478ed0ce0986"
      },
      "execution_count": 33,
      "outputs": [
        {
          "output_type": "stream",
          "name": "stdout",
          "text": [
            "(1, 2, 3, 4, 5, 6)\n"
          ]
        }
      ]
    },
    {
      "cell_type": "markdown",
      "source": [
        "Assignment 6: Tuple Methods\n",
        "\n",
        "Create a tuple with duplicate elements and count the occurrences of an element. Find the index of the first occurrence of an element in the tuple.\n",
        "\n"
      ],
      "metadata": {
        "id": "ekCVT--N_cjC"
      }
    },
    {
      "cell_type": "code",
      "source": [
        "my_tuple = (1, 2, 2, 3, 4, 2, 5)\n",
        "element=2\n",
        "count = my_tuple.count(element)\n",
        "print(f\"The element {element} appears {count} times.\")\n",
        "\n",
        "index_of= my_tuple.index(element)\n",
        "print(f\"The first occurrence of {element} is at index {index_of}.\")"
      ],
      "metadata": {
        "colab": {
          "base_uri": "https://localhost:8080/"
        },
        "id": "8LnYSDGi_eWW",
        "outputId": "fa69a42e-74ec-46d3-b2a9-f4b7ff1ef66b"
      },
      "execution_count": 38,
      "outputs": [
        {
          "output_type": "stream",
          "name": "stdout",
          "text": [
            "The element 2 appears 3 times.\n",
            "The first occurrence of 2 is at index 1.\n"
          ]
        }
      ]
    },
    {
      "cell_type": "markdown",
      "source": [
        "Assignment 7: Unpacking Tuples\n",
        "\n",
        "Create a tuple with 5 elements and unpack it into 5 variables. Print the variables."
      ],
      "metadata": {
        "id": "EBcqS2m4_ey4"
      }
    },
    {
      "cell_type": "code",
      "source": [
        "my_tuple=(1,2,3,4,5)\n",
        "a,b,c,d,e=my_tuple\n",
        "print(a,b,c,d,e)"
      ],
      "metadata": {
        "colab": {
          "base_uri": "https://localhost:8080/"
        },
        "id": "f6VACwBA_gMp",
        "outputId": "f1f771f9-5d94-46b9-d18e-3cd760b1a440"
      },
      "execution_count": 39,
      "outputs": [
        {
          "output_type": "stream",
          "name": "stdout",
          "text": [
            "1 2 3 4 5\n"
          ]
        }
      ]
    },
    {
      "cell_type": "markdown",
      "source": [
        "Assignment 8: Tuple Conversion\n",
        "\n",
        "Convert a list of the first 5 positive integers to a tuple. Print the tuple.\n",
        "\n"
      ],
      "metadata": {
        "id": "1dVPy4jt_oSC"
      }
    },
    {
      "cell_type": "code",
      "source": [
        "my_list=list(range(1,6))\n",
        "print(my_list)\n",
        "my_tuple=tuple(my_list)\n",
        "print(my_tuple)"
      ],
      "metadata": {
        "colab": {
          "base_uri": "https://localhost:8080/"
        },
        "id": "hbPoLGEI_uOg",
        "outputId": "7e1ec52f-abb8-46d0-ee35-0c647fae3c1a"
      },
      "execution_count": 42,
      "outputs": [
        {
          "output_type": "stream",
          "name": "stdout",
          "text": [
            "[1, 2, 3, 4, 5]\n",
            "(1, 2, 3, 4, 5)\n"
          ]
        }
      ]
    },
    {
      "cell_type": "markdown",
      "source": [
        "Assignment 9: Tuple of Tuples\n",
        "\n",
        "Create a tuple containing 3 tuples, each with 3 elements. Print the tuple of tuples.\n",
        "\n"
      ],
      "metadata": {
        "id": "6Hx0mRJM_upj"
      }
    },
    {
      "cell_type": "code",
      "source": [
        "\n",
        "\n",
        "tuple1= ((1, 2, 3), (4, 5, 6), (7, 8, 9))\n",
        "print(tuple1[0])\n",
        "print(tuple1)\n"
      ],
      "metadata": {
        "colab": {
          "base_uri": "https://localhost:8080/"
        },
        "id": "hMHdrhT7_xsC",
        "outputId": "c4634e24-11a2-44d6-bc37-f403d1f838ba"
      },
      "execution_count": 51,
      "outputs": [
        {
          "output_type": "stream",
          "name": "stdout",
          "text": [
            "(1, 2, 3)\n",
            "((1, 2, 3), (4, 5, 6), (7, 8, 9))\n"
          ]
        }
      ]
    },
    {
      "cell_type": "markdown",
      "source": [
        "Assignment 10: Tuple and List\n",
        "\n",
        "Create a tuple with the first 5 positive integers. Convert it to a list, append the number 6, and convert it back to a tuple. Print the resulting tuple.\n",
        "\n"
      ],
      "metadata": {
        "id": "DQW5TZTe_yHd"
      }
    },
    {
      "cell_type": "code",
      "source": [
        "my_tuple=(1,2,3,4,5)\n",
        "print(my_tuple)\n",
        "my_list=list(my_tuple)\n",
        "my_list.append(6)\n",
        "my_tuple=tuple(my_list)\n",
        "\n",
        "print(my_tuple)"
      ],
      "metadata": {
        "colab": {
          "base_uri": "https://localhost:8080/"
        },
        "id": "pRUFaHOY_0B4",
        "outputId": "10dcbcde-4cec-48f3-dd32-dbc6f1f20124"
      },
      "execution_count": 53,
      "outputs": [
        {
          "output_type": "stream",
          "name": "stdout",
          "text": [
            "(1, 2, 3, 4, 5)\n",
            "(1, 2, 3, 4, 5, 6)\n"
          ]
        }
      ]
    },
    {
      "cell_type": "markdown",
      "source": [
        "Assignment 11: Tuple and String\n",
        "\n",
        "Create a tuple with the characters of a string. Join the tuple elements into a single string. Print the string.\n",
        "\n"
      ],
      "metadata": {
        "id": "KH6v1Cpx_0op"
      }
    },
    {
      "cell_type": "code",
      "source": [
        "my_tuple=('s','a','t','y','a')\n",
        "name=\"\".join(my_tuple)\n",
        "print(name)"
      ],
      "metadata": {
        "colab": {
          "base_uri": "https://localhost:8080/"
        },
        "id": "vAdOO2UF_3fC",
        "outputId": "35ed983f-66ed-4f53-cfd3-34f1fa245a48"
      },
      "execution_count": 54,
      "outputs": [
        {
          "output_type": "stream",
          "name": "stdout",
          "text": [
            "satya\n"
          ]
        }
      ]
    },
    {
      "cell_type": "markdown",
      "source": [
        "Assignment 12: Tuple and Dictionary\n",
        "\n",
        "Create a dictionary with tuple keys and integer values. Print the dictionary."
      ],
      "metadata": {
        "id": "RNBf17np_36n"
      }
    },
    {
      "cell_type": "code",
      "source": [
        "my_dict = {(1, 2): 10,\n",
        "           (3, 4): 20,\n",
        "           (5, 6): 30}\n",
        "print(my_dict)\n"
      ],
      "metadata": {
        "colab": {
          "base_uri": "https://localhost:8080/"
        },
        "id": "xFwKgwjC_5H4",
        "outputId": "beb2b314-41c9-44c4-8a94-e387af29cd9d"
      },
      "execution_count": 55,
      "outputs": [
        {
          "output_type": "stream",
          "name": "stdout",
          "text": [
            "{(1, 2): 10, (3, 4): 20, (5, 6): 30}\n"
          ]
        }
      ]
    },
    {
      "cell_type": "markdown",
      "source": [
        "Assignment 13: Nested Tuple Iteration\n",
        "\n",
        "Create a nested tuple and iterate over the elements, printing each element.\n",
        "\n"
      ],
      "metadata": {
        "id": "_131brJx__Si"
      }
    },
    {
      "cell_type": "code",
      "source": [
        "my_tuple=((1,2),(3,4),(4,5))\n",
        "for i in my_tuple:\n",
        "  for j in i:\n",
        "    print(j,end=\" \")"
      ],
      "metadata": {
        "colab": {
          "base_uri": "https://localhost:8080/"
        },
        "id": "DuIxvw2nAA4k",
        "outputId": "0727daf1-c3c4-4fde-ca9b-216ae42190b6"
      },
      "execution_count": 58,
      "outputs": [
        {
          "output_type": "stream",
          "name": "stdout",
          "text": [
            "1 2 3 4 4 5 "
          ]
        }
      ]
    },
    {
      "cell_type": "markdown",
      "source": [
        "Assignment 14: Tuple and Set\n",
        "\n",
        "Create a tuple with duplicate elements. Convert it to a set to remove duplicates and print the resulting set.\n",
        "\n"
      ],
      "metadata": {
        "id": "uM0dsVxUABXW"
      }
    },
    {
      "cell_type": "code",
      "source": [
        "my_tuple=(1,2,2,3,4,5,5)\n",
        "my_set=set(my_tuple)\n",
        "print(my_set)"
      ],
      "metadata": {
        "colab": {
          "base_uri": "https://localhost:8080/"
        },
        "id": "VsQzkufQADIJ",
        "outputId": "e3b30abc-9594-452d-ff4e-39d8a2d67e99"
      },
      "execution_count": 59,
      "outputs": [
        {
          "output_type": "stream",
          "name": "stdout",
          "text": [
            "{1, 2, 3, 4, 5}\n"
          ]
        }
      ]
    },
    {
      "cell_type": "markdown",
      "source": [
        "Assignment 15: Tuple Functions\n",
        "\n",
        "Write functions that take a tuple and return the minimum, maximum, and sum of the elements. Print the results for a sample tuple."
      ],
      "metadata": {
        "id": "AJ4Gk5avADr_"
      }
    },
    {
      "cell_type": "code",
      "source": [
        "my_tuple=(2,3,5,9,10,33,55)\n",
        "print(f\"Maximum={max(my_tuple)}\")\n",
        "print(f\"Minimum={min(my_tuple)}\")\n",
        "print(f\"Sum={sum(my_tuple)}\")"
      ],
      "metadata": {
        "colab": {
          "base_uri": "https://localhost:8080/"
        },
        "id": "HJMIyN4aAE1-",
        "outputId": "c60a169b-0e32-49a6-c766-2b5a6dba7d60"
      },
      "execution_count": 60,
      "outputs": [
        {
          "output_type": "stream",
          "name": "stdout",
          "text": [
            "Maximum=55\n",
            "Minimum=2\n",
            "Sum=117\n"
          ]
        }
      ]
    }
  ]
}