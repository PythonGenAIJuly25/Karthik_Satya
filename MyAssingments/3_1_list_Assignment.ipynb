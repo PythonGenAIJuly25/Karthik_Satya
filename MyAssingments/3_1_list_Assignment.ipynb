{
  "cells": [
    {
      "cell_type": "markdown",
      "metadata": {
        "id": "6GqMv3E6nXnK"
      },
      "source": [
        "# Module 3: Data Structures Assignments\n",
        "## Lesson 3.1: Lists\n",
        "### Assignment 1: Creating and Accessing Lists\n",
        "\n",
        "Create a list of the first 20 positive integers. Print the list.\n",
        "\n",
        "### Assignment 2: Accessing List Elements\n",
        "\n",
        "Print the first, middle, and last elements of the list created in Assignment 1.\n",
        "\n",
        "### Assignment 3: List Slicing\n",
        "\n",
        "Print the first five elements, the last five elements, and the elements from index 5 to 15 of the list created in Assignment 1.\n",
        "\n",
        "### Assignment 4: List Comprehensions\n",
        "\n",
        "Create a new list containing the squares of the first 10 positive integers using a list comprehension. Print the new list.\n",
        "\n",
        "### Assignment 5: Filtering Lists\n",
        "\n",
        "Create a new list containing only the even numbers from the list created in Assignment 1 using a list comprehension. Print the new list.\n",
        "\n",
        "### Assignment 6: List Methods\n",
        "\n",
        "Create a list of random numbers and sort it in ascending and descending order. Remove the duplicates from the list and print the modified list.\n",
        "\n",
        "### Assignment 7: Nested Lists\n",
        "\n",
        "Create a nested list representing a 3x3 matrix and print the matrix. Access and print the element at the second row and third column.\n",
        "\n",
        "### Assignment 8: List of Dictionaries\n",
        "\n",
        "Create a list of dictionaries where each dictionary represents a student with keys 'name' and 'score'. Sort the list of dictionaries by the 'score' in descending order and print the sorted list.\n",
        "\n",
        "### Assignment 9: Matrix Transposition\n",
        "\n",
        "Write a function that takes a 3x3 matrix (nested list) as input and returns its transpose. Print the original and transposed matrices.\n",
        "\n",
        "### Assignment 10: Flattening a Nested List\n",
        "\n",
        "Write a function that takes a nested list and flattens it into a single list. Print the original and flattened lists.\n",
        "\n",
        "### Assignment 11: List Manipulation\n",
        "\n",
        "Create a list of the first 10 positive integers. Remove the elements at indices 2, 4, and 6, and insert the element '99' at index 5. Print the modified list.\n",
        "\n",
        "### Assignment 12: List Zipping\n",
        "\n",
        "Create two lists of the same length. Use the `zip` function to combine these lists into a list of tuples and print the result.\n",
        "\n",
        "### Assignment 13: List Reversal\n",
        "\n",
        "Write a function that takes a list and returns a new list with the elements in reverse order. Print the original and reversed lists.\n",
        "\n",
        "### Assignment 14: List Rotation\n",
        "\n",
        "Write a function that rotates a list by n positions. Print the original and rotated lists.\n",
        "\n",
        "### Assignment 15: List Intersection\n",
        "\n",
        "Write a function that takes two lists and returns a new list containing only the elements that are present in both lists. Print the intersected list."
      ],
      "id": "6GqMv3E6nXnK"
    },
    {
      "cell_type": "markdown",
      "source": [
        "Assignment 1: Creating and Accessing Lists\n",
        "\n",
        "Create a list of the first 20 positive integers. Print the list.\n",
        "\n"
      ],
      "metadata": {
        "id": "GFtjiBUcpvoD"
      },
      "id": "GFtjiBUcpvoD"
    },
    {
      "cell_type": "code",
      "execution_count": 4,
      "metadata": {
        "id": "dafVepuenXnS",
        "outputId": "48535de4-5ca1-4339-aa43-d9d315cf8802",
        "colab": {
          "base_uri": "https://localhost:8080/"
        }
      },
      "outputs": [
        {
          "output_type": "stream",
          "name": "stdout",
          "text": [
            "[1, 2, 3, 4, 5, 6, 7, 8, 9, 10, 11, 12, 13, 14, 15, 16, 17, 18, 19, 20]\n"
          ]
        }
      ],
      "source": [
        "my_list=list(range(1,20+1))\n",
        "print(my_list)"
      ],
      "id": "dafVepuenXnS"
    },
    {
      "cell_type": "markdown",
      "source": [
        "Assignment 2: Accessing List Elements\n",
        "\n",
        "Print the first, middle, and last elements of the list created in Assignment 1.\n"
      ],
      "metadata": {
        "id": "bc6i5aStpywy"
      },
      "id": "bc6i5aStpywy"
    },
    {
      "cell_type": "code",
      "source": [
        "#unpacking of list\n",
        "print(\"Un packing\")\n",
        "first,*middle,last=my_list\n",
        "print(first)\n",
        "print(middle)\n",
        "print(last)\n",
        "print(\"-\"*20)\n",
        "print(\"first, middle, and last elements of the list\")\n",
        "print(my_list[0])\n",
        "print(my_list[20//2-1])\n",
        "print(my_list[19])"
      ],
      "metadata": {
        "id": "3D2CMqGTp1t9",
        "outputId": "e4bab383-8f22-44b2-906d-a1f4f6f064e6",
        "colab": {
          "base_uri": "https://localhost:8080/"
        }
      },
      "id": "3D2CMqGTp1t9",
      "execution_count": 14,
      "outputs": [
        {
          "output_type": "stream",
          "name": "stdout",
          "text": [
            "Un packing\n",
            "1\n",
            "[2, 3, 4, 5, 6, 7, 8, 9, 10, 11, 12, 13, 14, 15, 16, 17, 18, 19]\n",
            "20\n",
            "--------------------\n",
            "first, middle, and last elements of the list\n",
            "1\n",
            "10\n",
            "20\n"
          ]
        }
      ]
    },
    {
      "cell_type": "markdown",
      "source": [
        "\n",
        "Assignment 3: List Slicing\n",
        "\n",
        "Print the first five elements, the last five elements, and the elements from index 5 to 15 of the list created in Assignment 1."
      ],
      "metadata": {
        "id": "WMbddowkp2Pu"
      },
      "id": "WMbddowkp2Pu"
    },
    {
      "cell_type": "code",
      "source": [
        "print(my_list[:5])\n",
        "print(my_list[5:15])\n",
        "print(my_list[-5:])"
      ],
      "metadata": {
        "id": "RAk43rdNp36g",
        "outputId": "025b5a58-e3ec-4850-edb5-02de963476a9",
        "colab": {
          "base_uri": "https://localhost:8080/"
        }
      },
      "id": "RAk43rdNp36g",
      "execution_count": 20,
      "outputs": [
        {
          "output_type": "stream",
          "name": "stdout",
          "text": [
            "[1, 2, 3, 4, 5]\n",
            "[6, 7, 8, 9, 10, 11, 12, 13, 14, 15]\n",
            "[16, 17, 18, 19, 20]\n"
          ]
        }
      ]
    },
    {
      "cell_type": "markdown",
      "source": [
        "Assignment 4: List Comprehensions\n",
        "\n",
        "Create a new list containing the squares of the first 10 positive integers using a list comprehension. Print the new list.\n",
        "\n"
      ],
      "metadata": {
        "id": "b-eyM3VWtNET"
      },
      "id": "b-eyM3VWtNET"
    },
    {
      "cell_type": "code",
      "source": [
        "num=10\n",
        "squares=[num**2 for num in range(1,num+1)]\n",
        "print(squares)"
      ],
      "metadata": {
        "id": "uIv0rm8btPn3",
        "outputId": "6f05870b-7cd6-45af-a1a5-9bcbe54f1ffe",
        "colab": {
          "base_uri": "https://localhost:8080/"
        }
      },
      "id": "uIv0rm8btPn3",
      "execution_count": 21,
      "outputs": [
        {
          "output_type": "stream",
          "name": "stdout",
          "text": [
            "[1, 4, 9, 16, 25, 36, 49, 64, 81, 100]\n"
          ]
        }
      ]
    },
    {
      "cell_type": "markdown",
      "source": [
        "Assignment 5: Filtering Lists\n",
        "\n",
        "Create a new list containing only the even numbers from the list created in Assignment 1 using a list comprehension. Print the new list.\n",
        "\n"
      ],
      "metadata": {
        "id": "5hcEhRBJtQR6"
      },
      "id": "5hcEhRBJtQR6"
    },
    {
      "cell_type": "code",
      "source": [
        "even_nums=[num for num in range(1,num+1) if num%2==0]\n",
        "print(even_nums)"
      ],
      "metadata": {
        "id": "nu67AfdhtS0r",
        "outputId": "9cc17ae5-61fb-4361-be8d-d276f6737f9f",
        "colab": {
          "base_uri": "https://localhost:8080/"
        }
      },
      "id": "nu67AfdhtS0r",
      "execution_count": 23,
      "outputs": [
        {
          "output_type": "stream",
          "name": "stdout",
          "text": [
            "[2, 4, 6, 8, 10]\n"
          ]
        }
      ]
    },
    {
      "cell_type": "markdown",
      "source": [
        "Assignment 6: List Methods\n",
        "\n",
        "Create a list of random numbers and sort it in ascending and descending order. Remove the duplicates from the list and print the modified list."
      ],
      "metadata": {
        "id": "WTmQzZl9tTOd"
      },
      "id": "WTmQzZl9tTOd"
    },
    {
      "cell_type": "code",
      "source": [
        "list1=[0,4,6,2,8,4,1,5,6,9]\n",
        "list1.sort()\n",
        "print(list1)\n",
        "list1.sort(reverse=True)\n",
        "print(list1)\n",
        "print(set(list1))"
      ],
      "metadata": {
        "id": "w6XNdD6ctUh-",
        "outputId": "30a81140-3315-405d-b37b-70e1a12c9313",
        "colab": {
          "base_uri": "https://localhost:8080/"
        }
      },
      "id": "w6XNdD6ctUh-",
      "execution_count": 30,
      "outputs": [
        {
          "output_type": "stream",
          "name": "stdout",
          "text": [
            "[0, 1, 2, 4, 4, 5, 6, 6, 8, 9]\n",
            "[9, 8, 6, 6, 5, 4, 4, 2, 1, 0]\n",
            "{0, 1, 2, 4, 5, 6, 8, 9}\n"
          ]
        }
      ]
    },
    {
      "cell_type": "markdown",
      "source": [
        "Assignment 7: Nested Lists\n",
        "\n",
        "Create a nested list representing a 3x3 matrix and print the matrix. Access and print the element at the second row and third column.\n",
        "\n"
      ],
      "metadata": {
        "id": "I4Bi30lAvLbQ"
      },
      "id": "I4Bi30lAvLbQ"
    },
    {
      "cell_type": "code",
      "source": [
        "matrix = [[1,2,3],[4,5,6],[7,8,9]]\n",
        "for i in matrix:\n",
        "  print(i)\n",
        "\n",
        "print(matrix[1][2])"
      ],
      "metadata": {
        "id": "wTR2BsmjvOPb",
        "outputId": "701312f6-cd23-4efa-af34-4a66ec6125d4",
        "colab": {
          "base_uri": "https://localhost:8080/"
        }
      },
      "id": "wTR2BsmjvOPb",
      "execution_count": 38,
      "outputs": [
        {
          "output_type": "stream",
          "name": "stdout",
          "text": [
            "[1, 2, 3]\n",
            "[4, 5, 6]\n",
            "[7, 8, 9]\n",
            "6\n"
          ]
        }
      ]
    },
    {
      "cell_type": "markdown",
      "source": [
        "Assignment 8: List of Dictionaries\n",
        "\n",
        "Create a list of dictionaries where each dictionary represents a student with keys 'name' and 'score'. Sort the list of dictionaries by the 'score' in descending order and print the sorted list.\n",
        "\n"
      ],
      "metadata": {
        "id": "KIqlfACUvOoM"
      },
      "id": "KIqlfACUvOoM"
    },
    {
      "cell_type": "code",
      "source": [
        "dict=[{\"name\": \"satya\" ,\"score\":30},\n",
        "      {\"name\": \"karthik\",\"score\":45},\n",
        "      {\"name\":\"krishna\",\"score\":47}]\n",
        "\n",
        "print(dict)\n",
        "sort_dict=sorted(dict, key=lambda x:x[\"score\"],reverse=True)\n",
        "print(sort_dict)\n",
        "sorted(dict,key=lambda x: len(x[\"name\"]),reverse=True)"
      ],
      "metadata": {
        "id": "l9Q09BXPvQ9l",
        "outputId": "3757b5ed-ab3c-4108-c665-e38ad2130e3b",
        "colab": {
          "base_uri": "https://localhost:8080/"
        }
      },
      "id": "l9Q09BXPvQ9l",
      "execution_count": 48,
      "outputs": [
        {
          "output_type": "stream",
          "name": "stdout",
          "text": [
            "[{'name': 'satya', 'score': 30}, {'name': 'karthik', 'score': 45}, {'name': 'krishna', 'score': 47}]\n",
            "[{'name': 'krishna', 'score': 47}, {'name': 'karthik', 'score': 45}, {'name': 'satya', 'score': 30}]\n"
          ]
        },
        {
          "output_type": "execute_result",
          "data": {
            "text/plain": [
              "[{'name': 'karthik', 'score': 45},\n",
              " {'name': 'krishna', 'score': 47},\n",
              " {'name': 'satya', 'score': 30}]"
            ]
          },
          "metadata": {},
          "execution_count": 48
        }
      ]
    },
    {
      "cell_type": "markdown",
      "source": [
        "Assignment 9: Matrix Transposition\n",
        "\n",
        "Write a function that takes a 3x3 matrix (nested list) as input and returns its transpose. Print the original and transposed matrices.\n",
        "\n"
      ],
      "metadata": {
        "id": "9qFKf0AuvRaz"
      },
      "id": "9qFKf0AuvRaz"
    },
    {
      "cell_type": "code",
      "source": [
        "matrix = [[1, 2, 3], [4, 5, 6], [7, 8, 9]]\n",
        "for i in matrix:\n",
        "  print(i)\n",
        "transposed_matrix = [list(row) for row in zip(*matrix)]\n",
        "print()\n",
        "for i in transposed_matrix:\n",
        "  print(i)\n"
      ],
      "metadata": {
        "id": "b7J-msmUvVHf",
        "outputId": "c08e2542-2d1f-444e-d6bf-473c2deea0a8",
        "colab": {
          "base_uri": "https://localhost:8080/"
        }
      },
      "id": "b7J-msmUvVHf",
      "execution_count": 57,
      "outputs": [
        {
          "output_type": "stream",
          "name": "stdout",
          "text": [
            "[1, 2, 3]\n",
            "[4, 5, 6]\n",
            "[7, 8, 9]\n",
            "\n",
            "[1, 4, 7]\n",
            "[2, 5, 8]\n",
            "[3, 6, 9]\n"
          ]
        }
      ]
    },
    {
      "cell_type": "markdown",
      "source": [
        "Assignment 10: Flattening a Nested List\n",
        "\n",
        "Write a function that takes a nested list and flattens it into a single list. Print the original and flattened lists."
      ],
      "metadata": {
        "id": "Z7xS_8BGvVmK"
      },
      "id": "Z7xS_8BGvVmK"
    },
    {
      "cell_type": "code",
      "source": [
        "my_list= [[1, 2, 3], [4, 5, 6], [7, 8, 9]]\n",
        "flatten=[num for i in my_list for num in i]\n",
        "print(flatten)"
      ],
      "metadata": {
        "id": "WRvbsuWSvW3O",
        "outputId": "a235b176-c2a1-488c-fe03-cee8a6b92103",
        "colab": {
          "base_uri": "https://localhost:8080/"
        }
      },
      "id": "WRvbsuWSvW3O",
      "execution_count": 60,
      "outputs": [
        {
          "output_type": "stream",
          "name": "stdout",
          "text": [
            "[1, 2, 3, 4, 5, 6, 7, 8, 9]\n"
          ]
        }
      ]
    },
    {
      "cell_type": "markdown",
      "source": [
        "Assignment 11: List Manipulation\n",
        "\n",
        "Create a list of the first 10 positive integers. Remove the elements at indices 2, 4, and 6, and insert the element '99' at index 5. Print the modified list.\n",
        "\n"
      ],
      "metadata": {
        "id": "8yQoRzM_5kpx"
      },
      "id": "8yQoRzM_5kpx"
    },
    {
      "cell_type": "code",
      "source": [
        "my_list=list(range(1,10+1))\n",
        "print(my_list)\n",
        "for i in [2,4,6]:\n",
        "  list.pop(my_list,i)\n",
        "print(my_list)\n",
        "my_list.insert(5,99)\n",
        "print(my_list)\n"
      ],
      "metadata": {
        "id": "Shl2j0Ey53xK",
        "outputId": "6115b2ae-7af9-406a-f0ba-4acbb1a4fc6a",
        "colab": {
          "base_uri": "https://localhost:8080/"
        }
      },
      "id": "Shl2j0Ey53xK",
      "execution_count": 63,
      "outputs": [
        {
          "output_type": "stream",
          "name": "stdout",
          "text": [
            "[1, 2, 3, 4, 5, 6, 7, 8, 9, 10]\n",
            "[1, 2, 4, 5, 7, 8, 10]\n",
            "[1, 2, 4, 5, 7, 99, 8, 10]\n"
          ]
        }
      ]
    },
    {
      "cell_type": "markdown",
      "source": [
        "Assignment 12: List Zipping\n",
        "\n",
        "Create two lists of the same length. Use the zip function to combine these lists into a list of tuples and print the result.\n",
        "\n"
      ],
      "metadata": {
        "id": "KuiAAVMh5rh4"
      },
      "id": "KuiAAVMh5rh4"
    },
    {
      "cell_type": "code",
      "source": [
        "l1=[1,2,3,4,5,]\n",
        "l2=[\"HI\", \"Hello\",\"Happy\",\"Sad\",\"Welcome\",\"satya\"]\n",
        "zip_list=list(zip(l1,l2))\n",
        "print(zip_list)"
      ],
      "metadata": {
        "id": "J4d4qRP17w19",
        "outputId": "914d9726-2354-4469-ad23-536b8636e598",
        "colab": {
          "base_uri": "https://localhost:8080/"
        }
      },
      "id": "J4d4qRP17w19",
      "execution_count": 66,
      "outputs": [
        {
          "output_type": "stream",
          "name": "stdout",
          "text": [
            "[(1, 'HI'), (2, 'Hello'), (3, 'Happy'), (4, 'Sad'), (5, 'Welcome')]\n"
          ]
        }
      ]
    },
    {
      "cell_type": "markdown",
      "source": [
        "Assignment 13: List Reversal\n",
        "\n",
        "Write a function that takes a list and returns a new list with the elements in reverse order. Print the original and reversed lists.\n",
        "\n"
      ],
      "metadata": {
        "id": "pRB3k3Gp5ulR"
      },
      "id": "pRB3k3Gp5ulR"
    },
    {
      "cell_type": "code",
      "source": [
        "l1=[1,2,3,4,5,]\n",
        "new_list=l1[::-1]\n",
        "print(\"original  list \",l1)\n",
        "print(\"reversed list  \",new_list)"
      ],
      "metadata": {
        "id": "bP6WZZEI8JjY",
        "outputId": "318ef3a3-697e-4efb-fbbf-a3a1fc29ea44",
        "colab": {
          "base_uri": "https://localhost:8080/"
        }
      },
      "id": "bP6WZZEI8JjY",
      "execution_count": 70,
      "outputs": [
        {
          "output_type": "stream",
          "name": "stdout",
          "text": [
            "original  list  [1, 2, 3, 4, 5]\n",
            "reversed list   [5, 4, 3, 2, 1]\n"
          ]
        }
      ]
    },
    {
      "cell_type": "markdown",
      "source": [
        "Assignment 14: List Rotation\n",
        "\n",
        "Write a function that rotates a list by n positions. Print the original and rotated lists.\n",
        "\n"
      ],
      "metadata": {
        "id": "xkqw8twb5x01"
      },
      "id": "xkqw8twb5x01"
    },
    {
      "cell_type": "code",
      "source": [
        "l1=[1,2,3,4,5,]\n",
        "n=4\n",
        "new_list=l1[n:]+l1[:n]\n",
        "print(\"original  list \",l1)\n",
        "print(\"rotated list  \",new_list)"
      ],
      "metadata": {
        "id": "TYdJPLNR8KTr",
        "outputId": "7d2382a2-5038-48e0-d80c-38badd622ebc",
        "colab": {
          "base_uri": "https://localhost:8080/"
        }
      },
      "id": "TYdJPLNR8KTr",
      "execution_count": 74,
      "outputs": [
        {
          "output_type": "stream",
          "name": "stdout",
          "text": [
            "original  list  [1, 2, 3, 4, 5]\n",
            "rotated list   [5, 1, 2, 3, 4]\n"
          ]
        }
      ]
    },
    {
      "cell_type": "markdown",
      "source": [
        "Assignment 15: List Intersection\n",
        "\n",
        "Write a function that takes two lists and returns a new list containing only the elements that are present in both lists. Print the intersected list."
      ],
      "metadata": {
        "id": "zABg1FQt51uR"
      },
      "id": "zABg1FQt51uR"
    },
    {
      "cell_type": "code",
      "source": [
        "l1=[1,2,3,4,5,6,8]\n",
        "l2=[2,5,6,4,2,8,9,0]\n",
        "combin=[num for num in l1 if num in l2]\n",
        "print(combin)"
      ],
      "metadata": {
        "id": "w8Ust2Gr8K_0",
        "outputId": "f5f11de4-8c7f-4f2c-eb31-3b05dd9f653f",
        "colab": {
          "base_uri": "https://localhost:8080/"
        }
      },
      "id": "w8Ust2Gr8K_0",
      "execution_count": 79,
      "outputs": [
        {
          "output_type": "stream",
          "name": "stdout",
          "text": [
            "[2, 4, 5, 6, 8]\n"
          ]
        }
      ]
    }
  ],
  "metadata": {
    "kernelspec": {
      "display_name": "Python 3",
      "language": "python",
      "name": "python3"
    },
    "language_info": {
      "codemirror_mode": {
        "name": "ipython",
        "version": 3
      },
      "file_extension": ".py",
      "mimetype": "text/x-python",
      "name": "python",
      "nbconvert_exporter": "python",
      "pygments_lexer": "ipython3",
      "version": "3.9.7"
    },
    "colab": {
      "provenance": []
    }
  },
  "nbformat": 4,
  "nbformat_minor": 5
}