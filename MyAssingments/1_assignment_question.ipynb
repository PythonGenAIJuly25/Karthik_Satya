{
  "cells": [
    {
      "cell_type": "markdown",
      "metadata": {
        "id": "BRZ1ND5kclca"
      },
      "source": [
        "# Python Basics\n",
        "## Topics Covered:\n",
        "- Syntax and Semantics\n",
        "- Variables and Data Types\n",
        "- Basic Operators (Arithmetic, Comparison, Logical)\n"
      ]
    },
    {
      "cell_type": "markdown",
      "metadata": {
        "id": "w1_410IPclch"
      },
      "source": [
        "## 1. Syntax and Semantics\n",
        "\n",
        "**Question 1:** Write a Python program to print \"Hello, World!\"."
      ]
    },
    {
      "cell_type": "code",
      "execution_count": 1,
      "metadata": {
        "colab": {
          "base_uri": "https://localhost:8080/"
        },
        "id": "202W5SgDclci",
        "outputId": "983284cc-ce69-4f05-f181-4146118efe60"
      },
      "outputs": [
        {
          "output_type": "stream",
          "name": "stdout",
          "text": [
            "Hello,World!\n"
          ]
        }
      ],
      "source": [
        "print(\"Hello,World!\")"
      ]
    },
    {
      "cell_type": "markdown",
      "metadata": {
        "id": "VuBJGDElclck"
      },
      "source": [
        "**Question 2:** Write a Python program that takes a user input and prints it."
      ]
    },
    {
      "cell_type": "code",
      "execution_count": 2,
      "metadata": {
        "colab": {
          "base_uri": "https://localhost:8080/"
        },
        "id": "09GoMo2jclcl",
        "outputId": "cbf7e34a-de9f-4faf-a825-d901517cb7da"
      },
      "outputs": [
        {
          "name": "stdout",
          "output_type": "stream",
          "text": [
            "Enter your namekarthik satya\n"
          ]
        }
      ],
      "source": [
        "a=input(\"Enter your name\")"
      ]
    },
    {
      "cell_type": "markdown",
      "metadata": {
        "id": "Jl2jxP3Vclcn"
      },
      "source": [
        "**Question 3:** Write a Python program to check if a number is positive, negative, or zero."
      ]
    },
    {
      "cell_type": "code",
      "execution_count": 6,
      "metadata": {
        "colab": {
          "base_uri": "https://localhost:8080/"
        },
        "id": "GvOxGCMBclcn",
        "outputId": "7b8f8f82-7bbf-455b-e9fa-7ec57844c3f5"
      },
      "outputs": [
        {
          "output_type": "stream",
          "name": "stdout",
          "text": [
            "Enter a number 0\n",
            "0 is Zero\n"
          ]
        }
      ],
      "source": [
        "num=int(input(\"Enter a number \"))\n",
        "if num>0:\n",
        "  print(f\"{num} is positive\")\n",
        "elif num<0:\n",
        "  print(f\"{num} is negative\")\n",
        "else:\n",
        "  print(f\"{num} is Zero\")"
      ]
    },
    {
      "cell_type": "markdown",
      "metadata": {
        "id": "h783qIJjclco"
      },
      "source": [
        "**Question 4:** Write a Python program to find the largest of three numbers."
      ]
    },
    {
      "cell_type": "code",
      "execution_count": 7,
      "metadata": {
        "colab": {
          "base_uri": "https://localhost:8080/"
        },
        "id": "uDo5ZzQFclcp",
        "outputId": "aa5d278d-fd1d-4257-c9fd-2a79d47cc404"
      },
      "outputs": [
        {
          "output_type": "stream",
          "name": "stdout",
          "text": [
            "Enter a number 55\n",
            "Enter a number 65\n",
            "Enter a number 12\n",
            "65 is largest\n"
          ]
        }
      ],
      "source": [
        "n1=int(input(\"Enter a number \"))\n",
        "n2=int(input(\"Enter a number \"))\n",
        "n3=int(input(\"Enter a number \"))\n",
        "\n",
        "if n1>n2 and n1>n3:\n",
        "  print(f\"{n1} is largest\")\n",
        "elif n2>n1 and n2>n3:\n",
        "  print(f\"{n2} is largest\")\n",
        "else:\n",
        "  print(f\"{n3} is largest\")"
      ]
    },
    {
      "cell_type": "markdown",
      "metadata": {
        "id": "FNe1jvHGclcp"
      },
      "source": [
        "**Question 5:** Write a Python program to calculate the factorial of a number."
      ]
    },
    {
      "cell_type": "code",
      "execution_count": 12,
      "metadata": {
        "colab": {
          "base_uri": "https://localhost:8080/"
        },
        "id": "LQyR3_CIclcq",
        "outputId": "6c19579d-ca40-4c78-cb48-e58628f5276c"
      },
      "outputs": [
        {
          "output_type": "stream",
          "name": "stdout",
          "text": [
            "Enter a number5\n",
            "120\n"
          ]
        }
      ],
      "source": [
        "def fact(n):\n",
        "  if n==0:\n",
        "    return 1\n",
        "  else:\n",
        "    return n*fact(n-1)\n",
        "\n",
        "print(fact(int(input(\"Enter a number\"))))"
      ]
    },
    {
      "cell_type": "markdown",
      "metadata": {
        "id": "jtFUYjSXclcr"
      },
      "source": [
        "## 2. Variables and Data Types\n",
        "\n",
        "**Question 6:** Create variables of different data types: integer, float, string, and boolean. Print their values and types."
      ]
    },
    {
      "cell_type": "code",
      "execution_count": 15,
      "metadata": {
        "colab": {
          "base_uri": "https://localhost:8080/"
        },
        "id": "u4Aw1sLNclcr",
        "outputId": "c4deffd2-26dc-4d76-98f0-b0fadbfec5ec"
      },
      "outputs": [
        {
          "output_type": "stream",
          "name": "stdout",
          "text": [
            "Enter a number34\n",
            "Enter a float number34.3434\n",
            "Enter a stringsatya\n",
            "Enter a booleantrue\n",
            "34 <class 'int'>\n",
            "34.3434 <class 'float'>\n",
            "satya <class 'str'>\n",
            "True <class 'bool'>\n"
          ]
        }
      ],
      "source": [
        "# Your code here\n",
        "a=int(input(\"Enter a number\"))\n",
        "f=float(input(\"Enter a float number\"))\n",
        "s=input(\"Enter a string\")\n",
        "b=bool(input(\"Enter a boolean\"))\n",
        "\n",
        "print(a,type(a))\n",
        "print(f,type(f))\n",
        "print(s,type(s))\n",
        "print(b,type(b))\n",
        "\n"
      ]
    },
    {
      "cell_type": "markdown",
      "metadata": {
        "id": "PkFDzkWrclcr"
      },
      "source": [
        "**Question 7:** Write a Python program to swap the values of two variables."
      ]
    },
    {
      "cell_type": "code",
      "execution_count": 16,
      "metadata": {
        "colab": {
          "base_uri": "https://localhost:8080/"
        },
        "id": "-mZv8hAxclcs",
        "outputId": "fc99e609-9756-4fb8-b374-b0dc2e86aa77"
      },
      "outputs": [
        {
          "output_type": "stream",
          "name": "stdout",
          "text": [
            "Enter a number200\n",
            "Enter a number1234\n",
            "before swapping 200 1234\n",
            "after swapping 1234 200\n"
          ]
        }
      ],
      "source": [
        "num1=int(input(\"Enter a number\"))\n",
        "num2=int(input(\"Enter a number\"))\n",
        "print(f\"before swapping {num1} {num2}\")\n",
        "num1,num2=num2,num1\n",
        "print(f\"after swapping {num1} {num2}\")"
      ]
    },
    {
      "cell_type": "markdown",
      "metadata": {
        "id": "FqkWt7ppclcs"
      },
      "source": [
        "**Question 8:** Write a Python program to convert Celsius to Fahrenheit."
      ]
    },
    {
      "cell_type": "code",
      "execution_count": 22,
      "metadata": {
        "colab": {
          "base_uri": "https://localhost:8080/"
        },
        "id": "vVmw_1k6clcs",
        "outputId": "1c2c1a96-05ec-4d05-c204-cb6e01a070bd"
      },
      "outputs": [
        {
          "output_type": "stream",
          "name": "stdout",
          "text": [
            "Enter temperature in celsius33.3\n",
            "33.3 celsius is equal to 91.94 fahrenheit\n"
          ]
        }
      ],
      "source": [
        "# Your code here\n",
        "\n",
        "celsius=float(input(\"Enter temperature in celsius\"))\n",
        "fahrenheit=(celsius*9/5)+32\n",
        "print(f\"{celsius} celsius is equal to {fahrenheit} fahrenheit\")"
      ]
    },
    {
      "cell_type": "markdown",
      "metadata": {
        "id": "TRYNgyebclcs"
      },
      "source": [
        "**Question 9:** Write a Python program to concatenate two strings."
      ]
    },
    {
      "cell_type": "code",
      "execution_count": 23,
      "metadata": {
        "colab": {
          "base_uri": "https://localhost:8080/"
        },
        "id": "MtOf-mIxclct",
        "outputId": "00f8617e-ac4b-4dbb-f9e2-7bc09a5d6adf"
      },
      "outputs": [
        {
          "output_type": "stream",
          "name": "stdout",
          "text": [
            "Enter a stringkarthik\n",
            "Enter a stringsatya\n",
            "karthiksatya\n"
          ]
        }
      ],
      "source": [
        "# Your code here\n",
        "s1=input(\"Enter a string\")\n",
        "s2=input(\"Enter a string\")\n",
        "print(s1+s2)"
      ]
    },
    {
      "cell_type": "markdown",
      "metadata": {
        "id": "zTxFyJYxclct"
      },
      "source": [
        "**Question 10:** Write a Python program to check if a variable is of a specific data type."
      ]
    },
    {
      "cell_type": "code",
      "execution_count": 31,
      "metadata": {
        "colab": {
          "base_uri": "https://localhost:8080/"
        },
        "id": "G8ceSZswclct",
        "outputId": "dff8f0bf-835f-481b-912e-c53942448b31"
      },
      "outputs": [
        {
          "output_type": "stream",
          "name": "stdout",
          "text": [
            "Enter a number33\n",
            "True\n",
            "True\n",
            "True\n",
            "True\n"
          ]
        }
      ],
      "source": [
        "# Your code here\n",
        "a=input(\"Enter a number\")\n",
        "print(a.isnumeric())\n",
        "print(a.isdecimal())\n",
        "print(a.isdigit())\n",
        "print(isinstance(a,str))"
      ]
    },
    {
      "cell_type": "markdown",
      "metadata": {
        "id": "aZGxCP3Wclct"
      },
      "source": [
        "## 3. Basic Operators (Arithmetic, Comparison, Logical)\n",
        "\n",
        "**Question 11:** Write a Python program to perform arithmetic operations: addition, subtraction, multiplication, and division."
      ]
    },
    {
      "cell_type": "code",
      "execution_count": 32,
      "metadata": {
        "colab": {
          "base_uri": "https://localhost:8080/"
        },
        "id": "T1lt5EKdclcu",
        "outputId": "2a3b997f-159f-4a1c-fdc9-db02bc721c9e"
      },
      "outputs": [
        {
          "output_type": "stream",
          "name": "stdout",
          "text": [
            "Enter a number34\n",
            "Enter a number55\n",
            "addition 89\n",
            "subtraction -21\n",
            "multiplication 89\n",
            "addition 89\n"
          ]
        }
      ],
      "source": [
        "# Your code here\n",
        "a=int(input(\"Enter a number\"))\n",
        "b=int(input(\"Enter a number\"))\n",
        "print(f\"addition {a+b}\")\n",
        "print(f\"subtraction {a-b}\")\n",
        "print(f\"multiplication {a+b}\")\n",
        "print(f\"addition {a+b}\")\n"
      ]
    },
    {
      "cell_type": "markdown",
      "metadata": {
        "id": "MVlLGhFvclcu"
      },
      "source": [
        "**Question 12:** Write a Python program to demonstrate comparison operators: equal to, not equal to, greater than, less than."
      ]
    },
    {
      "cell_type": "code",
      "execution_count": 34,
      "metadata": {
        "colab": {
          "base_uri": "https://localhost:8080/"
        },
        "id": "FJCb1Z4gclcu",
        "outputId": "f53a0fd9-eab9-445a-b5f1-9d7ace5e4002"
      },
      "outputs": [
        {
          "output_type": "stream",
          "name": "stdout",
          "text": [
            "Enter a number44\n",
            "Enter a number44\n",
            "Equals to True\n",
            "Not equals False\n",
            "greater than  True\n",
            "less than True\n"
          ]
        }
      ],
      "source": [
        "# Your code here\n",
        "a=int(input(\"Enter a number\"))\n",
        "b=int(input(\"Enter a number\"))\n",
        "print(f\"Equals to {a==b}\")\n",
        "print(f\"Not equals {a!=b}\")\n",
        "print(f\"greater than  {a>=b}\")\n",
        "print(f\"less than {a<=b}\")"
      ]
    },
    {
      "cell_type": "markdown",
      "metadata": {
        "id": "9u-iO99Kclcu"
      },
      "source": [
        "**Question 13:** Write a Python program to demonstrate logical operators: and, or, not."
      ]
    },
    {
      "cell_type": "code",
      "execution_count": 35,
      "metadata": {
        "colab": {
          "base_uri": "https://localhost:8080/"
        },
        "id": "oiYT7f4Nclcv",
        "outputId": "c4d5e787-49cf-4dac-84b7-1ec889b66792"
      },
      "outputs": [
        {
          "output_type": "stream",
          "name": "stdout",
          "text": [
            "True and True: True\n",
            "True or True: True\n",
            "not True: False\n"
          ]
        }
      ],
      "source": [
        "from pickle import TRUE\n",
        "# Your code here\n",
        "a = True\n",
        "b = True\n",
        "print(f\"{a} and {b}:\", a and b)\n",
        "print(f\"{a} or {b}:\", a or b)\n",
        "print(f\"not {a}:\", not a)"
      ]
    },
    {
      "cell_type": "markdown",
      "metadata": {
        "id": "ywAZ2hzrclcv"
      },
      "source": [
        "**Question 14:** Write a Python program to calculate the square of a number."
      ]
    },
    {
      "cell_type": "code",
      "execution_count": 36,
      "metadata": {
        "colab": {
          "base_uri": "https://localhost:8080/"
        },
        "id": "MP6e6qT9clcv",
        "outputId": "a2491377-18c6-4cd4-d684-7b75613847d1"
      },
      "outputs": [
        {
          "output_type": "stream",
          "name": "stdout",
          "text": [
            "Enter a number2\n",
            "4\n"
          ]
        }
      ],
      "source": [
        "# Your code here\n",
        "a=int(input(\"Enter a number\"))\n",
        "print(a**2)"
      ]
    },
    {
      "cell_type": "markdown",
      "metadata": {
        "id": "ZLEzE1jGclcv"
      },
      "source": [
        "**Question 15:** Write a Python program to check if a number is even or odd."
      ]
    },
    {
      "cell_type": "code",
      "execution_count": 37,
      "metadata": {
        "colab": {
          "base_uri": "https://localhost:8080/"
        },
        "id": "nqltsjkyclcw",
        "outputId": "4e6c55c7-4660-4ab7-bd2c-48087b7fbd45"
      },
      "outputs": [
        {
          "output_type": "stream",
          "name": "stdout",
          "text": [
            "Enter a number34\n",
            "34 is even\n"
          ]
        }
      ],
      "source": [
        "# Your code here\n",
        "a=int(input(\"Enter a number\"))\n",
        "if a%2==0:\n",
        "  print(f\"{a} is even\")\n",
        "else:\n",
        "  print(f\"{a} is odd\")"
      ]
    },
    {
      "cell_type": "markdown",
      "metadata": {
        "id": "o-mj1hJmclcw"
      },
      "source": [
        "**Question 16:** Write a Python program to find the sum of the first n natural numbers."
      ]
    },
    {
      "cell_type": "code",
      "execution_count": 39,
      "metadata": {
        "colab": {
          "base_uri": "https://localhost:8080/"
        },
        "id": "ZhSeVKTFclcw",
        "outputId": "7c7194dd-50c8-4e44-ced5-52dc0fff420c"
      },
      "outputs": [
        {
          "output_type": "stream",
          "name": "stdout",
          "text": [
            "Enter a number12\n",
            "78\n"
          ]
        }
      ],
      "source": [
        "# Your code here\n",
        "n=int(input(\"Enter a number\"))\n",
        "sum=0\n",
        "for i in range(1,n+1):\n",
        "  sum+=i\n",
        "print(sum)"
      ]
    },
    {
      "cell_type": "markdown",
      "metadata": {
        "id": "7CkHMluvclcw"
      },
      "source": [
        "**Question 17:** Write a Python program to check if a year is a leap year."
      ]
    },
    {
      "cell_type": "code",
      "execution_count": 49,
      "metadata": {
        "colab": {
          "base_uri": "https://localhost:8080/"
        },
        "id": "XA7j-46Cclcx",
        "outputId": "d58fbeec-e146-4d16-cb51-678e3cbc6498"
      },
      "outputs": [
        {
          "output_type": "stream",
          "name": "stdout",
          "text": [
            "Enter a year2200\n",
            "2200 is a leap year\n"
          ]
        }
      ],
      "source": [
        "# Your code here\n",
        "year=int(input(\"Enter a year\"))\n",
        "if year%4==0 and year%100!=0:\n",
        "  print(f\"{year} is a leap year\")\n",
        "elif year%100==0 and year%400==0:\n",
        "  print(f\"{year} is a leap year\")\n",
        "else:\n",
        "  print(f\"{year} is not a leap year\")"
      ]
    },
    {
      "cell_type": "markdown",
      "metadata": {
        "id": "XDNTjMltclcx"
      },
      "source": [
        "**Question 18:** Write a Python program to reverse a string."
      ]
    },
    {
      "cell_type": "code",
      "execution_count": null,
      "metadata": {
        "id": "N42rVfzGclcx"
      },
      "outputs": [],
      "source": [
        "# Your code here\n",
        "s=input(\"Enter a string\")\n",
        "print(s[::-1])"
      ]
    },
    {
      "cell_type": "markdown",
      "metadata": {
        "id": "Js1BYXXeclcx"
      },
      "source": [
        "**Question 19:** Write a Python program to check if a string is a palindrome."
      ]
    },
    {
      "cell_type": "code",
      "execution_count": null,
      "metadata": {
        "id": "M6vn8lK4clcx"
      },
      "outputs": [],
      "source": [
        "# Your code here\n",
        "s=input(\"Enter a string\")\n",
        "if s==s[::-1]:\n",
        "  print(f\"{s} is a palindrome\")\n",
        "else:\n",
        "  print(f\"{s} is not a palindrome\")"
      ]
    },
    {
      "cell_type": "markdown",
      "metadata": {
        "id": "xVE4acS9clc8"
      },
      "source": [
        "**Question 20:** Write a Python program to sort a list of numbers in ascending order."
      ]
    },
    {
      "cell_type": "code",
      "execution_count": null,
      "metadata": {
        "id": "Fx9C-3wJclc9"
      },
      "outputs": [],
      "source": [
        "# Your code here\n",
        "l=list(map(int,input(\"Enter a list of numbers\").split()))\n",
        "l.sort()\n",
        "print(l)"
      ]
    }
  ],
  "metadata": {
    "kernelspec": {
      "display_name": "Python 3",
      "language": "python",
      "name": "python3"
    },
    "language_info": {
      "codemirror_mode": {
        "name": "ipython",
        "version": 3
      },
      "file_extension": ".py",
      "mimetype": "text/x-python",
      "name": "python",
      "nbconvert_exporter": "python",
      "pygments_lexer": "ipython3",
      "version": "3.8.5"
    },
    "colab": {
      "provenance": []
    }
  },
  "nbformat": 4,
  "nbformat_minor": 0
}